{
 "cells": [
  {
   "cell_type": "code",
   "execution_count": null,
   "id": "6f268293-e3d2-4341-ae10-add2ecded859",
   "metadata": {
    "vscode": {
     "languageId": "python"
    }
   },
   "outputs": [],
   "source": []
  }
 ],
 "metadata": {
  "kernelspec": {
   "display_name": "",
   "name": ""
  },
  "language_info": {
   "name": ""
  }
 },
 "nbformat": 4,
 "nbformat_minor": 5
}
