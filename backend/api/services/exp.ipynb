{
 "cells": [
  {
   "cell_type": "code",
   "execution_count": 5,
   "id": "6b2a25cc",
   "metadata": {},
   "outputs": [],
   "source": [
    "from dotenv                                      import load_dotenv, find_dotenv\n",
    "\n",
    "import os\n",
    "\n",
    "# .env 파일에서 GOOGLE API 키를 불러와 환경변수에 설정\n",
    "load_dotenv(find_dotenv())\n",
    "\n",
    "os.environ['TAVILY_API_KEY'] = os.getenv(\"TAVILY_API\")\n",
    "api_key = os.getenv(\"TAVILY_API\")"
   ]
  },
  {
   "cell_type": "code",
   "execution_count": 6,
   "id": "d6e6eb79",
   "metadata": {},
   "outputs": [
    {
     "data": {
      "text/plain": [
       "'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'"
      ]
     },
     "execution_count": 6,
     "metadata": {},
     "output_type": "execute_result"
    }
   ],
   "source": [
    "api_key"
   ]
  }
 ],
 "metadata": {
  "kernelspec": {
   "display_name": ".venv",
   "language": "python",
   "name": "python3"
  },
  "language_info": {
   "codemirror_mode": {
    "name": "ipython",
    "version": 3
   },
   "file_extension": ".py",
   "mimetype": "text/x-python",
   "name": "python",
   "nbconvert_exporter": "python",
   "pygments_lexer": "ipython3",
   "version": "3.11.12"
  }
 },
 "nbformat": 4,
 "nbformat_minor": 5
}
